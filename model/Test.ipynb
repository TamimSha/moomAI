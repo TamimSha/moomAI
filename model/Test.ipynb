{
 "cells": [
  {
   "cell_type": "code",
   "execution_count": 1,
   "metadata": {},
   "outputs": [
    {
     "name": "stdout",
     "output_type": "stream",
     "text": [
      "tf.Tensor(-719.8501, shape=(), dtype=float32)\n"
     ]
    }
   ],
   "source": [
    "import tensorflow as tf\n",
    "print(tf.reduce_sum(tf.random.normal([1000, 1000])))"
   ]
  },
  {
   "cell_type": "code",
   "execution_count": 9,
   "metadata": {
    "collapsed": true
   },
   "outputs": [],
   "source": [
    "import numpy as np"
   ]
  },
  {
   "cell_type": "code",
   "execution_count": 6,
   "metadata": {
    "collapsed": true
   },
   "outputs": [],
   "source": [
    "import progressbar"
   ]
  },
  {
   "cell_type": "code",
   "execution_count": 7,
   "metadata": {},
   "outputs": [
    {
     "ename": "ImportError",
     "evalue": "DLL load failed: The specified module could not be found.",
     "output_type": "error",
     "traceback": [
      "\u001b[1;31m---------------------------------------------------------------------------\u001b[0m",
      "\u001b[1;31mImportError\u001b[0m                               Traceback (most recent call last)",
      "\u001b[1;32m<ipython-input-7-c8ec22b3e787>\u001b[0m in \u001b[0;36m<module>\u001b[1;34m\u001b[0m\n\u001b[1;32m----> 1\u001b[1;33m \u001b[1;32mimport\u001b[0m \u001b[0mcv2\u001b[0m\u001b[1;33m\u001b[0m\u001b[1;33m\u001b[0m\u001b[0m\n\u001b[0m",
      "\u001b[1;31mImportError\u001b[0m: DLL load failed: The specified module could not be found."
     ]
    }
   ],
   "source": [
    "import cv2"
   ]
  },
  {
   "cell_type": "code",
   "execution_count": 10,
   "metadata": {},
   "outputs": [
    {
     "name": "stdout",
     "output_type": "stream",
     "text": [
      "3.7.7 (default, Apr 15 2020, 05:09:04) [MSC v.1916 64 bit (AMD64)]\n"
     ]
    }
   ],
   "source": [
    "import sys\n",
    "print(sys.version)"
   ]
  },
  {
   "cell_type": "code",
   "execution_count": 11,
   "metadata": {},
   "outputs": [
    {
     "name": "stdout",
     "output_type": "stream",
     "text": [
      "environ({'ALLUSERSPROFILE': 'C:\\\\ProgramData', 'AMDRMPATH': 'C:\\\\Program Files\\\\AMD\\\\RyzenMaster\\\\', 'AMDRMSDKPATH': 'C:\\\\Program Files\\\\AMD\\\\RyzenMasterSDK\\\\', 'AMD_ENTRYPOINT': 'vs/workbench/services/extensions/node/extensionHostProcess', 'APPDATA': 'C:\\\\Users\\\\tamim\\\\AppData\\\\Roaming', 'APPLICATION_INSIGHTS_NO_DIAGNOSTIC_CHANNEL': 'true', 'COMMONPROGRAMFILES': 'C:\\\\Program Files\\\\Common Files', 'COMMONPROGRAMFILES(X86)': 'C:\\\\Program Files (x86)\\\\Common Files', 'COMMONPROGRAMW6432': 'C:\\\\Program Files\\\\Common Files', 'COMPUTERNAME': 'THE-LEAFBLOWER', 'COMSPEC': 'C:\\\\WINDOWS\\\\system32\\\\cmd.exe', 'CONDA_DEFAULT_ENV': 'base', 'CONDA_EXE': 'C:\\\\Users\\\\tamim\\\\AppData\\\\Local\\\\Continuum\\\\Anaconda3\\\\Scripts\\\\conda.exe', 'CONDA_PREFIX': 'C:\\\\Users\\\\tamim\\\\AppData\\\\Local\\\\Continuum\\\\Anaconda3', 'CONDA_PROMPT_MODIFIER': '(base) ', 'CONDA_PYTHON_EXE': 'C:\\\\Users\\\\tamim\\\\AppData\\\\Local\\\\Continuum\\\\Anaconda3\\\\python.exe', 'CONDA_SHLVL': '1', 'CUDA_PATH': 'C:\\\\Program Files\\\\NVIDIA GPU Computing Toolkit\\\\CUDA\\\\v10.1', 'CUDA_PATH_V10_0': 'C:\\\\Program Files\\\\NVIDIA GPU Computing Toolkit\\\\CUDA\\\\v10.0', 'CUDA_PATH_V10_1': 'C:\\\\Program Files\\\\NVIDIA GPU Computing Toolkit\\\\CUDA\\\\v10.1', 'DRIVERDATA': 'C:\\\\Windows\\\\System32\\\\Drivers\\\\DriverData', 'ELECTRON_CRASHPAD_PIPE_NAME': '\\\\\\\\.\\\\pipe\\\\crashpad_19860_PSPRQDPZQEVDGQMQ', 'ELECTRON_RUN_AS_NODE': '1', 'FPS_BROWSER_APP_PROFILE_STRING': 'Internet Explorer', 'FPS_BROWSER_USER_PROFILE_STRING': 'Default', 'GTK_BASEPATH': 'C:\\\\Program Files (x86)\\\\GtkSharp\\\\2.12\\\\', 'HOMEDRIVE': 'C:', 'HOMEPATH': '\\\\Users\\\\tamim', 'LOCALAPPDATA': 'C:\\\\Users\\\\tamim\\\\AppData\\\\Local', 'LOGONSERVER': '\\\\\\\\THE-LEAFBLOWER', 'NUMBER_OF_PROCESSORS': '16', 'NVCUDASAMPLES10_0_ROOT': 'C:\\\\ProgramData\\\\NVIDIA Corporation\\\\CUDA Samples\\\\v10.0', 'NVCUDASAMPLES10_1_ROOT': 'C:\\\\ProgramData\\\\NVIDIA Corporation\\\\CUDA Samples\\\\v10.1', 'NVCUDASAMPLES8_0_ROOT': 'C:\\\\ProgramData\\\\NVIDIA Corporation\\\\CUDA Samples\\\\v8.0', 'NVCUDASAMPLES9_0_ROOT': 'C:\\\\ProgramData\\\\NVIDIA Corporation\\\\CUDA Samples\\\\v9.0', 'NVCUDASAMPLES9_2_ROOT': 'C:\\\\ProgramData\\\\NVIDIA Corporation\\\\CUDA Samples\\\\v9.2', 'NVCUDASAMPLES_ROOT': 'C:\\\\ProgramData\\\\NVIDIA Corporation\\\\CUDA Samples\\\\v10.1', 'NVTOOLSEXT_PATH': 'C:\\\\Program Files\\\\NVIDIA Corporation\\\\NvToolsExt\\\\', 'OCULUSBASE': 'C:\\\\Program Files\\\\Oculus\\\\', 'ONEDRIVE': 'C:\\\\Users\\\\tamim\\\\OneDrive', 'ONEDRIVECONSUMER': 'C:\\\\Users\\\\tamim\\\\OneDrive', 'OS': 'Windows_NT', 'PATH': 'C:\\\\Users\\\\tamim\\\\AppData\\\\Local\\\\Continuum\\\\Anaconda3\\\\Library\\\\bin;C:\\\\Users\\\\tamim\\\\AppData\\\\Local\\\\Continuum\\\\Anaconda3\\\\Library\\\\bin;C:\\\\Users\\\\tamim\\\\AppData\\\\Local\\\\Continuum\\\\Anaconda3;C:\\\\Users\\\\tamim\\\\AppData\\\\Local\\\\Continuum\\\\Anaconda3\\\\Library\\\\mingw-w64\\\\bin;C:\\\\Users\\\\tamim\\\\AppData\\\\Local\\\\Continuum\\\\Anaconda3\\\\Library\\\\usr\\\\bin;C:\\\\Users\\\\tamim\\\\AppData\\\\Local\\\\Continuum\\\\Anaconda3\\\\Library\\\\bin;C:\\\\Users\\\\tamim\\\\AppData\\\\Local\\\\Continuum\\\\Anaconda3\\\\Scripts;C:\\\\Users\\\\tamim\\\\AppData\\\\Local\\\\Continuum\\\\Anaconda3\\\\bin;C:\\\\Users\\\\tamim\\\\AppData\\\\Local\\\\Continuum\\\\Anaconda3\\\\condabin;C:\\\\Users\\\\tamim\\\\AppData\\\\Local\\\\Continuum\\\\Anaconda3;C:\\\\Users\\\\tamim\\\\AppData\\\\Local\\\\Continuum\\\\Anaconda3\\\\Library\\\\mingw-w64\\\\bin;C:\\\\Users\\\\tamim\\\\AppData\\\\Local\\\\Continuum\\\\Anaconda3\\\\Library\\\\usr\\\\bin;C:\\\\Users\\\\tamim\\\\AppData\\\\Local\\\\Continuum\\\\Anaconda3\\\\Library\\\\bin;C:\\\\Users\\\\tamim\\\\AppData\\\\Local\\\\Continuum\\\\Anaconda3\\\\Scripts;C:\\\\Users\\\\tamim\\\\AppData\\\\Local\\\\Continuum\\\\Anaconda3\\\\bin;C:\\\\Program Files\\\\Oculus\\\\Support\\\\oculus-runtime;C:\\\\Program Files\\\\NVIDIA GPU Computing Toolkit\\\\CUDA\\\\v10.1\\\\bin;C:\\\\Program Files\\\\NVIDIA GPU Computing Toolkit\\\\CUDA\\\\v10.1\\\\libnvvp;C:\\\\Program Files\\\\NVIDIA GPU Computing Toolkit\\\\CUDA\\\\v10.0\\\\bin;C:\\\\Program Files\\\\NVIDIA GPU Computing Toolkit\\\\CUDA\\\\v10.0\\\\libnvvp;C:\\\\ProgramData\\\\Oracle\\\\Java\\\\javapath;C:\\\\MinGW\\\\bin;C:\\\\WINDOWS\\\\system32;C:\\\\WINDOWS;C:\\\\WINDOWS\\\\System32\\\\Wbem;C:\\\\WINDOWS\\\\System32\\\\WindowsPowerShell\\\\v1.0;C:\\\\Program Files (x86)\\\\GtkSharp\\\\2.12\\\\bin;C:\\\\Program Files\\\\Microsoft SQL Server\\\\110\\\\Tools\\\\Binn;C:\\\\Program Files (x86)\\\\NVIDIA Corporation\\\\PhysX\\\\Common;C:\\\\Program Files\\\\Git\\\\cmd;C:\\\\Program Files\\\\dotnet;C:\\\\WINDOWS\\\\System32\\\\OpenSSH;C:\\\\cuda\\\\bin;C:\\\\cuda\\\\lib;C:\\\\HashiCorp\\\\Vagrant\\\\bin;C:\\\\Program Files\\\\Microsoft VS Code\\\\bin;C:\\\\Program Files\\\\Calibre2;C:\\\\Program Files\\\\SlikSvn\\\\bin;C:\\\\Program Files\\\\CMake\\\\bin;C:\\\\Program Files\\\\NVIDIA Corporation\\\\Nsight Compute 2019.4.0;C:\\\\WINDOWS\\\\system32;C:\\\\WINDOWS;C:\\\\WINDOWS\\\\System32\\\\Wbem;C:\\\\WINDOWS\\\\System32\\\\WindowsPowerShell\\\\v1.0;C:\\\\WINDOWS\\\\System32\\\\OpenSSH;C:\\\\Program Files\\\\Docker\\\\Docker\\\\resources\\\\bin;C:\\\\ProgramData\\\\DockerDesktop\\\\version-bin;C:\\\\Program Files\\\\nodejs;C:\\\\Program Files (x86)\\\\Microsoft Visual Studio\\\\2019\\\\Community\\\\VC\\\\Tools\\\\MSVC\\\\14.25.28610\\\\bin\\\\Hostx64\\\\x64;C:\\\\Users\\\\tamim\\\\AppData\\\\Local\\\\Programs\\\\Python\\\\Python37-32\\\\Scripts;C:\\\\Users\\\\tamim\\\\AppData\\\\Local\\\\Programs\\\\Python\\\\Python37-32;C:\\\\Users\\\\tamim\\\\AppData\\\\Local\\\\Continuum\\\\Anaconda3;C:\\\\Users\\\\tamim\\\\AppData\\\\Local\\\\Continuum\\\\Anaconda3\\\\Scripts;C:\\\\Users\\\\tamim\\\\AppData\\\\Local\\\\Continuum\\\\Anaconda3\\\\Library\\\\bin;C:\\\\Users\\\\tamim\\\\AppData\\\\Local\\\\Microsoft\\\\WindowsApps;C:\\\\Program Files (x86)\\\\Microsoft Visual Studio\\\\2019\\\\Community\\\\VC\\\\Tools\\\\MSVC\\\\14.25.28610\\\\bin\\\\Hostx64\\\\x64;C:\\\\Program Files (x86)\\\\Microsoft VS Code\\\\bin;C:\\\\Program Files\\\\NVIDIA GPU Computing Toolkit\\\\CUDA\\\\v10.0\\\\bin;C:\\\\Program Files\\\\NVIDIA GPU Computing Toolkit\\\\CUDA\\\\v10.0\\\\libnvvp;C:\\\\cuda\\\\bin;C:\\\\cuda\\\\lib;C:\\\\Users\\\\tamim\\\\AppData\\\\Roaming\\\\npm;C:\\\\Users\\\\tamim\\\\AppData\\\\Local\\\\GitHubDesktop\\\\bin;.;C:\\\\Users\\\\tamim\\\\AppData\\\\Local\\\\Continuum\\\\Anaconda3\\\\envs\\\\tf\\\\lib\\\\site-packages\\\\numpy\\\\.libs;C:\\\\Users\\\\tamim\\\\AppData\\\\Local\\\\Continuum\\\\Anaconda3\\\\envs\\\\tf\\\\lib\\\\site-packages\\\\scipy\\\\.libs', 'PATHEXT': '.COM;.EXE;.BAT;.CMD;.VBS;.VBE;.JS;.JSE;.WSF;.WSH;.MSC', 'PIPE_LOGGING': 'true', 'PROCESSOR_ARCHITECTURE': 'AMD64', 'PROCESSOR_IDENTIFIER': 'AMD64 Family 23 Model 1 Stepping 1, AuthenticAMD', 'PROCESSOR_LEVEL': '23', 'PROCESSOR_REVISION': '0101', 'PROGRAMDATA': 'C:\\\\ProgramData', 'PROGRAMFILES': 'C:\\\\Program Files', 'PROGRAMFILES(X86)': 'C:\\\\Program Files (x86)', 'PROGRAMW6432': 'C:\\\\Program Files', 'PROMPT': '(base) $P$G', 'PSMODULEPATH': 'C:\\\\Program Files\\\\WindowsPowerShell\\\\Modules;C:\\\\WINDOWS\\\\system32\\\\WindowsPowerShell\\\\v1.0\\\\Modules', 'PUBLIC': 'C:\\\\Users\\\\Public', 'PYTHONIOENCODING': 'utf-8', 'PYTHONPATH': 'c:\\\\Users\\\\tamim\\\\.vscode\\\\extensions\\\\ms-python.python-2020.4.76186\\\\pythonFiles;c:\\\\Users\\\\tamim\\\\.vscode\\\\extensions\\\\ms-python.python-2020.4.76186\\\\pythonFiles\\\\lib\\\\python', 'PYTHONUNBUFFERED': '1', 'PYTHONWARNINGS': 'ignore', 'SESSIONNAME': 'Console', 'SYSTEMDRIVE': 'C:', 'SYSTEMROOT': 'C:\\\\WINDOWS', 'TEMP': 'C:\\\\Users\\\\tamim\\\\AppData\\\\Local\\\\Temp', 'TMP': 'C:\\\\Users\\\\tamim\\\\AppData\\\\Local\\\\Temp', 'USERDOMAIN': 'THE-LEAFBLOWER', 'USERDOMAIN_ROAMINGPROFILE': 'THE-LEAFBLOWER', 'USERNAME': 'tamim', 'USERPROFILE': 'C:\\\\Users\\\\tamim', 'VBOX_MSI_INSTALL_PATH': 'C:\\\\Program Files\\\\Oracle\\\\VirtualBox\\\\', 'VERBOSE_LOGGING': 'true', 'VS110COMNTOOLS': 'C:\\\\Program Files (x86)\\\\Microsoft Visual Studio 11.0\\\\Common7\\\\Tools\\\\', 'VS140COMNTOOLS': 'C:\\\\Program Files (x86)\\\\Microsoft Visual Studio 14.0\\\\Common7\\\\Tools\\\\', 'VSCODE_CWD': 'C:\\\\Program Files\\\\Microsoft VS Code', 'VSCODE_HANDLES_UNCAUGHT_ERRORS': 'true', 'VSCODE_IPC_HOOK': '\\\\\\\\.\\\\pipe\\\\b8b9317c156e32bcc9bebae736fa072a-1.44.2-main-sock', 'VSCODE_IPC_HOOK_EXTHOST': '\\\\\\\\.\\\\pipe\\\\vscode-ipc-beab4bef-eb27-4cb6-96d7-43eea7ce452b-sock', 'VSCODE_LOGS': 'C:\\\\Users\\\\tamim\\\\AppData\\\\Roaming\\\\Code\\\\logs\\\\20200429T132652', 'VSCODE_LOG_STACK': 'false', 'VSCODE_NLS_CONFIG': '{\"locale\":\"en-us\",\"availableLanguages\":{},\"_languagePackSupport\":true}', 'VSCODE_NODE_CACHED_DATA_DIR': 'C:\\\\Users\\\\tamim\\\\AppData\\\\Roaming\\\\Code\\\\CachedData\\\\ff915844119ce9485abfe8aa9076ec76b5300ddd', 'VSCODE_PID': '19860', 'WINDIR': 'C:\\\\WINDOWS', 'JPY_INTERRUPT_EVENT': '1548', 'IPY_INTERRUPT_EVENT': '1548', 'JPY_PARENT_PID': '1392', 'TERM': 'xterm-color', 'CLICOLOR': '1', 'PAGER': 'cat', 'GIT_PAGER': 'cat', 'MPLBACKEND': 'module://ipykernel.pylab.backend_inline'})\n"
     ]
    }
   ],
   "source": [
    "import os\n",
    "print(os.path.dirname(sys.executable))"
   ]
  },
  {
   "cell_type": "code",
   "execution_count": null,
   "metadata": {},
   "outputs": [],
   "source": []
  }
 ],
 "metadata": {
  "kernelspec": {
   "display_name": "Python 3.7.7 64-bit ('tf': conda)",
   "language": "python",
   "name": "python37764bittfconda1d24e941838a4dd98f48176bbabefd60"
  },
  "language_info": {
   "codemirror_mode": {
    "name": "ipython",
    "version": 3
   },
   "file_extension": ".py",
   "mimetype": "text/x-python",
   "name": "python",
   "nbconvert_exporter": "python",
   "pygments_lexer": "ipython3",
   "version": "3.7.7"
  }
 },
 "nbformat": 4,
 "nbformat_minor": 2
}
